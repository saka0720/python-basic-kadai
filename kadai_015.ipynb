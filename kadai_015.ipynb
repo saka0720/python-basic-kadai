{
  "nbformat": 4,
  "nbformat_minor": 0,
  "metadata": {
    "colab": {
      "provenance": []
    },
    "kernelspec": {
      "name": "python3",
      "display_name": "Python 3"
    },
    "language_info": {
      "name": "python"
    }
  },
  "cells": [
    {
      "cell_type": "code",
      "source": [
        "class Human:\n",
        "    def __init__(self):\n",
        "        self.name = \"\"\n",
        "        self.age = \"\"\n",
        "\n",
        "    # メソッドを定義する\n",
        "    def set_name(self, name):\n",
        "        self.name = name\n",
        "    def set_age(self, age):\n",
        "        self.name = age\n",
        "\n",
        "    def show_name(self):\n",
        "        print(self.name)\n",
        "        print(self.age)\n",
        "\n",
        "\n",
        "# インスタンス化する\n",
        "name = Human()\n",
        "age = Human()\n",
        "\n",
        "# メソッドにアクセスして実行する\n",
        "name.set_name(\"紫式部\")\n",
        "name.show_name()\n",
        "name.set_age(\"12\")\n",
        "name.show_name()"
      ],
      "metadata": {
        "colab": {
          "base_uri": "https://localhost:8080/"
        },
        "id": "U4QyutsmJdOT",
        "outputId": "67f87231-71e8-4d5f-9767-6a1bda88f0f3"
      },
      "execution_count": 34,
      "outputs": [
        {
          "output_type": "stream",
          "name": "stdout",
          "text": [
            "紫式部\n",
            "\n",
            "12\n",
            "\n"
          ]
        }
      ]
    }
  ]
}