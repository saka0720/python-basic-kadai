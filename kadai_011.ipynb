{
  "nbformat": 4,
  "nbformat_minor": 0,
  "metadata": {
    "colab": {
      "provenance": []
    },
    "kernelspec": {
      "name": "python3",
      "display_name": "Python 3"
    },
    "language_info": {
      "name": "python"
    }
  },
  "cells": [
    {
      "cell_type": "code",
      "source": [
        "array = [\"水\",\"金\",\"地\",\"火\",\"木\",\"土\",\"天\",\"海\",\"冥\"]\n",
        "# 配列arrayの要素を1つずつ順番に出力する\n",
        "for arrays in array:\n",
        " print(arrays)\n",
        "\n",
        "# カウンタ変数を用意する\n",
        "i = 0\n",
        "\n",
        "# 配列の長さを使ってループを制御する\n",
        "while i < len(array):\n",
        "    # 配列の要素を出力する\n",
        "    print(array[i])\n",
        "    # インデックスを1つ進める\n",
        "    i += 1\n",
        "    # 最後の要素に達したらループを終了する\n",
        "    if i == len(array):\n",
        "        break\n",
        "\n"
      ],
      "metadata": {
        "colab": {
          "base_uri": "https://localhost:8080/"
        },
        "id": "K2b8wpSqlZdh",
        "outputId": "91c51b99-9a7d-4dda-ad67-50da8eb390e6"
      },
      "execution_count": 51,
      "outputs": [
        {
          "output_type": "stream",
          "name": "stdout",
          "text": [
            "水\n",
            "金\n",
            "地\n",
            "火\n",
            "木\n",
            "土\n",
            "天\n",
            "海\n",
            "冥\n",
            "水\n",
            "金\n",
            "地\n",
            "火\n",
            "木\n",
            "土\n",
            "天\n",
            "海\n",
            "冥\n"
          ]
        }
      ]
    }
  ]
}