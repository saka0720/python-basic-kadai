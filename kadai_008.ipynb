{
  "nbformat": 4,
  "nbformat_minor": 0,
  "metadata": {
    "colab": {
      "provenance": []
    },
    "kernelspec": {
      "name": "python3",
      "display_name": "Python 3"
    },
    "language_info": {
      "name": "python"
    }
  },
  "cells": [
    {
      "cell_type": "code",
      "execution_count": 2,
      "metadata": {
        "colab": {
          "base_uri": "https://localhost:8080/"
        },
        "id": "RTKB_4QRExUZ",
        "outputId": "c26edd0d-3c49-4b28-ade4-9e4c0b12f0b0"
      },
      "outputs": [
        {
          "output_type": "stream",
          "name": "stdout",
          "text": [
            "Buzz\n"
          ]
        }
      ],
      "source": [
        "var=10\n",
        "\n",
        "if var%15==0:\n",
        " print(\"FizzBuzz\")\n",
        "elif var%3==0:\n",
        " print(\"Fizz\")\n",
        "elif var%5==0:\n",
        " print(\"Buzz\")\n",
        "else:\n",
        "  print(var)\n",
        "\n",
        "\n"
      ]
    }
  ]
}